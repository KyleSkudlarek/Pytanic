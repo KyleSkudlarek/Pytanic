{
 "cells": [
  {
   "cell_type": "code",
   "execution_count": 1,
   "metadata": {
    "collapsed": true
   },
   "outputs": [],
   "source": [
    "# data analysis and wrangling\n",
    "import pandas as pd\n",
    "import numpy as np\n",
    "import random as rnd\n",
    "\n",
    "# visualization\n",
    "import seaborn as sns\n",
    "import matplotlib.pyplot as plt\n",
    "\n",
    "\n",
    "# machine learning\n",
    "from sklearn.linear_model import LogisticRegression\n",
    "from sklearn.svm import SVC, LinearSVC\n",
    "from sklearn.ensemble import RandomForestClassifier\n",
    "from sklearn.neighbors import KNeighborsClassifier\n",
    "from sklearn.naive_bayes import GaussianNB\n",
    "from sklearn.linear_model import Perceptron\n",
    "from sklearn.linear_model import SGDClassifier\n",
    "from sklearn.tree import DecisionTreeClassifier"
   ]
  },
  {
   "cell_type": "code",
   "execution_count": 6,
   "metadata": {},
   "outputs": [
    {
     "name": "stdout",
     "output_type": "stream",
     "text": [
      "<bound method NDFrame.head of              Survived  Pclass  \\\nPassengerId                     \n1                   0       3   \n2                   1       1   \n3                   1       3   \n4                   1       1   \n5                   0       3   \n6                   0       3   \n7                   0       1   \n8                   0       3   \n9                   1       3   \n10                  1       2   \n11                  1       3   \n12                  1       1   \n13                  0       3   \n14                  0       3   \n15                  0       3   \n16                  1       2   \n17                  0       3   \n18                  1       2   \n19                  0       3   \n20                  1       3   \n21                  0       2   \n22                  1       2   \n23                  1       3   \n24                  1       1   \n25                  0       3   \n26                  1       3   \n27                  0       3   \n28                  0       1   \n29                  1       3   \n30                  0       3   \n...               ...     ...   \n862                 0       2   \n863                 1       1   \n864                 0       3   \n865                 0       2   \n866                 1       2   \n867                 1       2   \n868                 0       1   \n869                 0       3   \n870                 1       3   \n871                 0       3   \n872                 1       1   \n873                 0       1   \n874                 0       3   \n875                 1       2   \n876                 1       3   \n877                 0       3   \n878                 0       3   \n879                 0       3   \n880                 1       1   \n881                 1       2   \n882                 0       3   \n883                 0       3   \n884                 0       2   \n885                 0       3   \n886                 0       3   \n887                 0       2   \n888                 1       1   \n889                 0       3   \n890                 1       1   \n891                 0       3   \n\n                                                          Name     Sex   Age  \\\nPassengerId                                                                    \n1                                      Braund, Mr. Owen Harris    male  22.0   \n2            Cumings, Mrs. John Bradley (Florence Briggs Th...  female  38.0   \n3                                       Heikkinen, Miss. Laina  female  26.0   \n4                 Futrelle, Mrs. Jacques Heath (Lily May Peel)  female  35.0   \n5                                     Allen, Mr. William Henry    male  35.0   \n6                                             Moran, Mr. James    male   NaN   \n7                                      McCarthy, Mr. Timothy J    male  54.0   \n8                               Palsson, Master. Gosta Leonard    male   2.0   \n9            Johnson, Mrs. Oscar W (Elisabeth Vilhelmina Berg)  female  27.0   \n10                         Nasser, Mrs. Nicholas (Adele Achem)  female  14.0   \n11                             Sandstrom, Miss. Marguerite Rut  female   4.0   \n12                                    Bonnell, Miss. Elizabeth  female  58.0   \n13                              Saundercock, Mr. William Henry    male  20.0   \n14                                 Andersson, Mr. Anders Johan    male  39.0   \n15                        Vestrom, Miss. Hulda Amanda Adolfina  female  14.0   \n16                            Hewlett, Mrs. (Mary D Kingcome)   female  55.0   \n17                                        Rice, Master. Eugene    male   2.0   \n18                                Williams, Mr. Charles Eugene    male   NaN   \n19           Vander Planke, Mrs. Julius (Emelia Maria Vande...  female  31.0   \n20                                     Masselmani, Mrs. Fatima  female   NaN   \n21                                        Fynney, Mr. Joseph J    male  35.0   \n22                                       Beesley, Mr. Lawrence    male  34.0   \n23                                 McGowan, Miss. Anna \"Annie\"  female  15.0   \n24                                Sloper, Mr. William Thompson    male  28.0   \n25                               Palsson, Miss. Torborg Danira  female   8.0   \n26           Asplund, Mrs. Carl Oscar (Selma Augusta Emilia...  female  38.0   \n27                                     Emir, Mr. Farred Chehab    male   NaN   \n28                              Fortune, Mr. Charles Alexander    male  19.0   \n29                               O'Dwyer, Miss. Ellen \"Nellie\"  female   NaN   \n30                                         Todoroff, Mr. Lalio    male   NaN   \n...                                                        ...     ...   ...   \n862                                Giles, Mr. Frederick Edward    male  21.0   \n863          Swift, Mrs. Frederick Joel (Margaret Welles Ba...  female  48.0   \n864                          Sage, Miss. Dorothy Edith \"Dolly\"  female   NaN   \n865                                     Gill, Mr. John William    male  24.0   \n866                                   Bystrom, Mrs. (Karolina)  female  42.0   \n867                               Duran y More, Miss. Asuncion  female  27.0   \n868                       Roebling, Mr. Washington Augustus II    male  31.0   \n869                                van Melkebeke, Mr. Philemon    male   NaN   \n870                            Johnson, Master. Harold Theodor    male   4.0   \n871                                          Balkic, Mr. Cerin    male  26.0   \n872           Beckwith, Mrs. Richard Leonard (Sallie Monypeny)  female  47.0   \n873                                   Carlsson, Mr. Frans Olof    male  33.0   \n874                                Vander Cruyssen, Mr. Victor    male  47.0   \n875                      Abelson, Mrs. Samuel (Hannah Wizosky)  female  28.0   \n876                           Najib, Miss. Adele Kiamie \"Jane\"  female  15.0   \n877                              Gustafsson, Mr. Alfred Ossian    male  20.0   \n878                                       Petroff, Mr. Nedelio    male  19.0   \n879                                         Laleff, Mr. Kristo    male   NaN   \n880              Potter, Mrs. Thomas Jr (Lily Alexenia Wilson)  female  56.0   \n881               Shelley, Mrs. William (Imanita Parrish Hall)  female  25.0   \n882                                         Markun, Mr. Johann    male  33.0   \n883                               Dahlberg, Miss. Gerda Ulrika  female  22.0   \n884                              Banfield, Mr. Frederick James    male  28.0   \n885                                     Sutehall, Mr. Henry Jr    male  25.0   \n886                       Rice, Mrs. William (Margaret Norton)  female  39.0   \n887                                      Montvila, Rev. Juozas    male  27.0   \n888                               Graham, Miss. Margaret Edith  female  19.0   \n889                   Johnston, Miss. Catherine Helen \"Carrie\"  female   NaN   \n890                                      Behr, Mr. Karl Howell    male  26.0   \n891                                        Dooley, Mr. Patrick    male  32.0   \n\n             SibSp  Parch            Ticket      Fare        Cabin Embarked  \nPassengerId                                                                  \n1                1      0         A/5 21171    7.2500          NaN        S  \n2                1      0          PC 17599   71.2833          C85        C  \n3                0      0  STON/O2. 3101282    7.9250          NaN        S  \n4                1      0            113803   53.1000         C123        S  \n5                0      0            373450    8.0500          NaN        S  \n6                0      0            330877    8.4583          NaN        Q  \n7                0      0             17463   51.8625          E46        S  \n8                3      1            349909   21.0750          NaN        S  \n9                0      2            347742   11.1333          NaN        S  \n10               1      0            237736   30.0708          NaN        C  \n11               1      1           PP 9549   16.7000           G6        S  \n12               0      0            113783   26.5500         C103        S  \n13               0      0         A/5. 2151    8.0500          NaN        S  \n14               1      5            347082   31.2750          NaN        S  \n15               0      0            350406    7.8542          NaN        S  \n16               0      0            248706   16.0000          NaN        S  \n17               4      1            382652   29.1250          NaN        Q  \n18               0      0            244373   13.0000          NaN        S  \n19               1      0            345763   18.0000          NaN        S  \n20               0      0              2649    7.2250          NaN        C  \n21               0      0            239865   26.0000          NaN        S  \n22               0      0            248698   13.0000          D56        S  \n23               0      0            330923    8.0292          NaN        Q  \n24               0      0            113788   35.5000           A6        S  \n25               3      1            349909   21.0750          NaN        S  \n26               1      5            347077   31.3875          NaN        S  \n27               0      0              2631    7.2250          NaN        C  \n28               3      2             19950  263.0000  C23 C25 C27        S  \n29               0      0            330959    7.8792          NaN        Q  \n30               0      0            349216    7.8958          NaN        S  \n...            ...    ...               ...       ...          ...      ...  \n862              1      0             28134   11.5000          NaN        S  \n863              0      0             17466   25.9292          D17        S  \n864              8      2          CA. 2343   69.5500          NaN        S  \n865              0      0            233866   13.0000          NaN        S  \n866              0      0            236852   13.0000          NaN        S  \n867              1      0     SC/PARIS 2149   13.8583          NaN        C  \n868              0      0          PC 17590   50.4958          A24        S  \n869              0      0            345777    9.5000          NaN        S  \n870              1      1            347742   11.1333          NaN        S  \n871              0      0            349248    7.8958          NaN        S  \n872              1      1             11751   52.5542          D35        S  \n873              0      0               695    5.0000  B51 B53 B55        S  \n874              0      0            345765    9.0000          NaN        S  \n875              1      0         P/PP 3381   24.0000          NaN        C  \n876              0      0              2667    7.2250          NaN        C  \n877              0      0              7534    9.8458          NaN        S  \n878              0      0            349212    7.8958          NaN        S  \n879              0      0            349217    7.8958          NaN        S  \n880              0      1             11767   83.1583          C50        C  \n881              0      1            230433   26.0000          NaN        S  \n882              0      0            349257    7.8958          NaN        S  \n883              0      0              7552   10.5167          NaN        S  \n884              0      0  C.A./SOTON 34068   10.5000          NaN        S  \n885              0      0   SOTON/OQ 392076    7.0500          NaN        S  \n886              0      5            382652   29.1250          NaN        Q  \n887              0      0            211536   13.0000          NaN        S  \n888              0      0            112053   30.0000          B42        S  \n889              1      2        W./C. 6607   23.4500          NaN        S  \n890              0      0            111369   30.0000         C148        C  \n891              0      0            370376    7.7500          NaN        Q  \n\n[891 rows x 11 columns]>\n"
     ]
    }
   ],
   "source": [
    "train = pd.DataFrame.from_csv('train.csv')\n",
    "print(train.head)"
   ]
  },
  {
   "cell_type": "code",
   "execution_count": 6,
   "metadata": {},
   "outputs": [],
   "source": [
    ""
   ]
  },
  {
   "cell_type": "code",
   "execution_count": null,
   "metadata": {},
   "outputs": [],
   "source": [
    ""
   ]
  }
 ],
 "metadata": {
  "kernelspec": {
   "display_name": "Python 2",
   "language": "python",
   "name": "python2"
  },
  "language_info": {
   "codemirror_mode": {
    "name": "ipython",
    "version": 2.0
   },
   "file_extension": ".py",
   "mimetype": "text/x-python",
   "name": "python",
   "nbconvert_exporter": "python",
   "pygments_lexer": "ipython2",
   "version": "2.7.6"
  }
 },
 "nbformat": 4,
 "nbformat_minor": 0
}